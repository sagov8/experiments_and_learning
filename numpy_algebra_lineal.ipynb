{
 "cells": [
  {
   "cell_type": "markdown",
   "id": "62285dca",
   "metadata": {},
   "source": [
    "![alt text](data:image/png;base64,iVBORw0KGgoAAAANSUhEUgAAAU8AAACWCAMAAABpVfqTAAAAllBMVEX///9Nd89Nq889bcxHc845a8xEcc0+bsxEqM2ktuT09vzs8PlJdc5QrdDY4POjz+PM1u+7yOrS2/Hf5fWIodypuuWTqd83pMtujtZqi9ZcsdL6+/7l6vfP5vDa7PSXyuBXftHq9PnF4e293et6vdlottWar+GAm9rF0O2yweiJxN15ltm5x+pghNOWrODh7/as1OYnYcku7xiqAAAKjElEQVR4nO2daUObMBjHQUjAFiutVay09Zj2mKvbvv+XG0fug0Joq7PP/5WUK/xI8hxJ0PNAIBAIBAKBQCAQCAQCgUAgEAgEAoFAIBAIBHLU82cX4Fvp+Wd28eOzC/FtVNCMLy5iIHoQ1TRLAdH+4jSBaH/JNEtBP+ounSYQdZeZJhB10+9XG00g6qL8Om7gGWfX+WeX8L/THxvROHsEmi4yEo2znxB8ukonmr0Czdb6/RqrhkYmmr0t5d0/HsAy2VTZ9OxKBXTNLH32sJB3vVxlEDNZtKQeku4M1bY+vnqRf148ZHWPCkQ1LUV/UwdUElV+W75lDSect5aq9x6rrT5Xtn8LNIGorKKm6X5RI6BnQ/QUa6bsPGWkaayjVLbIHupoA00r0fzRfsa5E10qvaCm7EqNLJdZ4ynxxZ9PeZIvoeVFM844u9ZPyq+bMk/FOWcM1Ht5sBO1JpEaiMax4Q2clWxEG5NIFqJAs5SJqJZEypXYyEA0js+5pYtSieopuT9xpkabClFjX3s+msiNWSQaaym5H1X83kT07OvmCt3KPzCi2etvec+PC55fUonWvqhOc/B48BJ/bV1ijE1EtQTny5WU/zQQzTSaz4/ZxcFL/LV1if3EQFRNcC40W6UT1WiW4ejVwUv8tVXw9Eui26aDzOGTRlQSCe7PkmdBNAqtRO3BqJ0oS5WcKc+SaLIxHbBnQoPaMVQSEk9ny7Mgin5pu5tpVkS1TImUxtN4ppNCI2PIVe2aTNLBYR5NVE6uzXQzPPxNSgk8/STRdjfF9aV0D0lJiqo8B3+jQgFKDWWpdkXR39GhHo5rSK7NFCA0W00OfyORpx+M9QN0y95IU63PGk9E2sKNfitESnEMnsjXlIRBeLv/1G6SeCZPpkNsRE2x0It6qIVn0Rb0Jn9inpVjE5oaSg9JPP3AfHUTUXNkuWjL0w9n2smn51k2lNVBbyTzTHaWw1Sitji9PU8/+lBP/gyexe0OClTm6QfWLlokqtNckvGiDjx9pPpnJ+FZxC4Yh0nCn9loG12l8DS0QiY2DUSn+ZqRvEcXnj6ay/tOwTOZ3pVa+0HICOtujbsUnr7J7jKVRI0049iFZ+LLNukUPAP6DufrgDVKg1vjKpVn8i7tvlHwLt40mtVAsxNPP7yX9p2EJ3+g28hcjF5SeSqNMP27nttOLUWH7d14+pFkC07M03unnSg63DRrjWe4FnenQYjsRHmmxJGnbJN68BwMB43bRp6TyPBjT2k8fSRGtmnRydiILsSJdY48peYg8bxdT2uxM8kP69oc11tVz5euMULoicY6g+19uR3sVvzaRp457UGjjXdH7raSqupGumUb6TzxnbA7rW5pIrqQsnjOPBOf75N4rqOwFGbGd4iqH0KStam3Cl9nOEOV95NEflUnL1HhDlWXxmjKTzZVReo1RWPvF7l6JDo4W3rL9v2BztNHQlNJyStUiWr+fWeetO/C3BhIPKehwntIioJra1xvhdN5wFzJsIxhd7QRV8c+5U08Q87Tw+Rv0cEhhcRa5NGJJxaMRMqcCpGoHn9aearjR4znjmKILnvwLCHykodTbyY/D5418GTtvQyzKQgB3g05CXXI7Rl4iuaO8yxK+5eU5doQzVOeynTc7KeFJ56zK7P4xImnjO9OfRziW+6xR3MhUYPZ/hUpQhd3ysRTGJ4TebKyXBtm3Zrqp2mFEi028lLW8un7d+SZ4CigrbU6KYyiiNZacr6R55oeFAg3LI0TEeleLUmi9jyFV9SDp3m914C3oRW9Nk0TuvGMnraTySXmzT5Yp6MNa/d1f2jiuWH3r2IY2rpZdRwFUuncefp8tNOZpz65ROYZFHXynobQ+N2dZ1Q3piEzQ6SFr0PxWfR407tlnkZQ18gZtUikuZC+o3notxVPniFw5Blrk0tMPHNftkkuPEPq3X2QB6HxCCUYTiWeeHVbavUesQent6DPSrs7UuWDTsGTkSfPEHTmGTfSlHl6c1ZF0MSRJ/OWN6SCsu7vqcYRvks8fYzrhB1/LGYPyeslt5wE8g368GRP4cCziabC09swm1Ru9+JJjTWLVu8JnZnMUxPPJ2+xoQBqUtGJJ+1SHNp7I02Vp7ei3V7Z6wefwRMJ9Y+EBnUXQQKGjrkneTyO/7Vz4/nyptBUpzsoPLlNKvo9cv9T8sRS7pM4nIUzx6x/J2dJ5okvhVEAMvDRlafSdy/e4j08c3bPYHt/Wp5JEeDfSWkoelQZf9bOqZhe6Mxzu+UbZOCjK0+FZhbb4nfKU7BJ+OkUPGt7hKMI4fdfqukmTlZxTo4Ikx48bz3B7KFRT551AmovT26TaHdzVJ54ta00npiC8hGNNgbjmks3Z0nj+YsnZ+qgoSVPfbERTeft5+l9iBmhY/MMms01ydLgcX12R2fJU3l6gkmqHIVWPPXIkidHW/D0ZqEv6rg8m1PxxItNdk7Okqfx3PC6UnkNLXg20WzHMxdHwz+XJ82BEMep+0CdwpNGFdXLGbbg2UyzHU/BJmk8/YgedBqet9L8uO4zHVSeGw6wLOoenjpNdTJzK57eWARaE6EFYweehmcuzQ9oS5FL5enthAo6aOYZZ49qDqn1eIfM0xPzwDUR2vOEZAxoTlvOcXmKJVGXabSRxnMiVNBVE8+Cpj6ReKGa/pY8RZtUE2EEounQy0d3iA04HZen0Pe4DMtrPIUnSwI7T8syWWeegk0iRFhDCYMA8dlGx+YpRMDTfYcapPMc8ReEtxMzT50mCdudebL0OCOyEW8t6Ng82SM3TuWySedJC1KWxU9FX5vx1Gi+PJBxN3ee3CZRIopbGtIByCPzpC5O0jDV0C4DT15TCgdM9AxpWRYazcwyvtmFJ7MElEjui0CDNXm3R+dJXKbIuHxonww82dCLL2bwrGWploB05mka057Vo5KMyGBG5yokGG3L9GSpiPBM9vKsFHbmWT+046xQE09bstBUFrKgpj1PuijGlI74qLI/iM8HG+9QtbYlWZWuRFrNLabzbeo8EUsHp/QHevaMZJIIT7K1v1MkjpqLs+SZebLYZC9PtjypNc+uGqbjcdo5iu4j0n0it1VlRp6WCqryFBZ7HY3nyZXSiVFupxt5enfGCirzLL9RefH9eBK318lZ8mw8B0bfT+Qp0fxGPIn3aV04tE+bABt4eivTsCfnKX+s4TvxJJNE3JylUvkKYZ1nHiR2nguVZgNPdTzui4sEh72W0AzuUKjylPOACs9980OEn9VP4Xx1kSDA0VmiGq5LovJFsF5Bu/LUPiz05XVDVz/3XYJ/c48Smec26smz+fMiX1P3qFLg3HtyTXbKl5gSrYJ24fk/0iy6vrzUgb4PsZHH7sdaBW3P8/+keWT5agVtyxNoGqUldNvxNH/yBiSNHbfmCTTtSoPOPJfQ0hu0S7ryBDVphIDnQbXGbXmq6+BAJuWhaTxO56l9LRRk1g0K9/PM3sCmt9VcWP9s5gk0u2nL5rqYeEJL76zBO5mLpfGMgaaTJj428ASa7rosq6jEM85egaa7hkWjF3gCzd5K2TdQr4HmQfRBpgY9qos0Qb0E/wQaBAKBQCAQCAQCgUAgEAgEAoFAIBAIBAKBQGesf0c64vgs7CWcAAAAAElFTkSuQmCC \"Título\")"
   ]
  },
  {
   "cell_type": "markdown",
   "id": "f4792386",
   "metadata": {},
   "source": [
    "# Creación de un array con numpy\n",
    "\n",
    "Se puede crear un array en una sola línea con np.array([<strong>array</strong>]).\n",
    "\n"
   ]
  },
  {
   "cell_type": "code",
   "execution_count": 1,
   "id": "5dc427ab",
   "metadata": {},
   "outputs": [],
   "source": [
    "import numpy as np"
   ]
  },
  {
   "cell_type": "code",
   "execution_count": 2,
   "id": "78362ed2",
   "metadata": {},
   "outputs": [
    {
     "data": {
      "text/plain": [
       "(array([0, 1, 2, 3, 4, 5]), numpy.ndarray)"
      ]
     },
     "execution_count": 2,
     "metadata": {},
     "output_type": "execute_result"
    }
   ],
   "source": [
    "array = np.array([0,1,2,3,4,5])\n",
    "array, type(array)"
   ]
  },
  {
   "cell_type": "markdown",
   "id": "185d689f",
   "metadata": {},
   "source": [
    "## 2. Opción: np.array()\n",
    "\n",
    "También una **lista** puede almacenarse en una **variable** previamente y luego usar la función np.array() para crear el array, además dentro de los parámetros de esta función se establece el <strong>tipo de datos</strong> en que se va a almacenar el arreglo con **numpy**"
   ]
  },
  {
   "cell_type": "code",
   "execution_count": 3,
   "id": "3492780c",
   "metadata": {},
   "outputs": [
    {
     "data": {
      "text/plain": [
       "(array([2.4, 3. , 4.5, 5. , 2. ]), numpy.ndarray)"
      ]
     },
     "execution_count": 3,
     "metadata": {},
     "output_type": "execute_result"
    }
   ],
   "source": [
    "notas = [2.4, 3.0, 4.5, 5, 2]\n",
    "arr_notas = np.array(notas, dtype=float)\n",
    "arr_notas, type(arr_notas)"
   ]
  },
  {
   "cell_type": "markdown",
   "id": "d50a013e",
   "metadata": {},
   "source": [
    "## 3. Opción: np.zeros() - np.ones()\n",
    "\n",
    "Usando **np.zeros()** se puede crear un array de 0´s ó usando **np.ones()** se puede crear un array de 1´s. "
   ]
  },
  {
   "cell_type": "code",
   "execution_count": 4,
   "id": "b298de3e",
   "metadata": {},
   "outputs": [
    {
     "data": {
      "text/plain": [
       "array([0., 0., 0., 0., 0.])"
      ]
     },
     "execution_count": 4,
     "metadata": {},
     "output_type": "execute_result"
    }
   ],
   "source": [
    "arr_ceros = np.zeros(5)\n",
    "arr_ceros"
   ]
  },
  {
   "cell_type": "code",
   "execution_count": 5,
   "id": "e4be5f7f",
   "metadata": {},
   "outputs": [
    {
     "data": {
      "text/plain": [
       "array([1., 1., 1., 1., 1., 1., 1., 1., 1., 1.])"
      ]
     },
     "execution_count": 5,
     "metadata": {},
     "output_type": "execute_result"
    }
   ],
   "source": [
    "arr_unos = np.ones(10)\n",
    "arr_unos"
   ]
  },
  {
   "cell_type": "markdown",
   "id": "6d8d0fcb",
   "metadata": {},
   "source": [
    "## 4. Opción: np.empty()\n",
    "\n",
    "Se puede usar **np.empty()** que creará un array con valores aleatorios cada vez dependiendo del estado de la memoria."
   ]
  },
  {
   "cell_type": "code",
   "execution_count": 6,
   "id": "678ae972",
   "metadata": {},
   "outputs": [
    {
     "data": {
      "text/plain": [
       "array([1., 1., 1., 1., 1., 1., 1., 1., 1., 1.])"
      ]
     },
     "execution_count": 6,
     "metadata": {},
     "output_type": "execute_result"
    }
   ],
   "source": [
    "arr_empty = np.empty(10)\n",
    "arr_empty"
   ]
  },
  {
   "cell_type": "markdown",
   "id": "a054c0e7",
   "metadata": {},
   "source": [
    "## 5 Opción: np.arange()\n",
    "\n",
    "También es posible usar la función **np.arange(total_de_valores)** ó alternativamente **np.arange(start, end, step)** donde se puede indicar el intervalo y el salto."
   ]
  },
  {
   "cell_type": "code",
   "execution_count": 7,
   "id": "4105d198",
   "metadata": {},
   "outputs": [
    {
     "data": {
      "text/plain": [
       "array([ 0,  1,  2,  3,  4,  5,  6,  7,  8,  9, 10, 11])"
      ]
     },
     "execution_count": 7,
     "metadata": {},
     "output_type": "execute_result"
    }
   ],
   "source": [
    "arr_arange_one = np.arange(12)\n",
    "arr_arange_one"
   ]
  },
  {
   "cell_type": "code",
   "execution_count": 8,
   "id": "e7fc92a2",
   "metadata": {},
   "outputs": [
    {
     "data": {
      "text/plain": [
       "array([10, 11, 12, 13, 14, 15, 16, 17, 18, 19])"
      ]
     },
     "execution_count": 8,
     "metadata": {},
     "output_type": "execute_result"
    }
   ],
   "source": [
    "arr_arange_two = np.arange(10, 20)\n",
    "arr_arange_two"
   ]
  },
  {
   "cell_type": "code",
   "execution_count": 9,
   "id": "62c315d9",
   "metadata": {},
   "outputs": [
    {
     "data": {
      "text/plain": [
       "array([10, 13, 16, 19])"
      ]
     },
     "execution_count": 9,
     "metadata": {},
     "output_type": "execute_result"
    }
   ],
   "source": [
    "arr_arange_two = np.arange(10, 20, 3)\n",
    "arr_arange_two"
   ]
  },
  {
   "cell_type": "markdown",
   "id": "ce43811e",
   "metadata": {},
   "source": [
    "## 6 Opción: np.linespace()\n",
    "Por último, se puede hacer uso de **np.linespace(start, end, number=total_values)** donde linealmente se divide en el rango especificado el total de valores que se coloquen en number."
   ]
  },
  {
   "cell_type": "code",
   "execution_count": 10,
   "id": "0ddf8f32",
   "metadata": {},
   "outputs": [
    {
     "data": {
      "text/plain": [
       "array([0.        , 0.09090909, 0.18181818, 0.27272727, 0.36363636,\n",
       "       0.45454545, 0.54545455, 0.63636364, 0.72727273, 0.81818182,\n",
       "       0.90909091, 1.        ])"
      ]
     },
     "execution_count": 10,
     "metadata": {},
     "output_type": "execute_result"
    }
   ],
   "source": [
    "arr_linspace = np.linspace(0, 1, num=12)\n",
    "arr_linspace"
   ]
  },
  {
   "cell_type": "code",
   "execution_count": 11,
   "id": "4b616dfd",
   "metadata": {},
   "outputs": [
    {
     "data": {
      "text/plain": [
       "array([0.        , 0.57119866, 1.14239733, 1.71359599, 2.28479466,\n",
       "       2.85599332, 3.42719199, 3.99839065, 4.56958931, 5.14078798,\n",
       "       5.71198664, 6.28318531])"
      ]
     },
     "execution_count": 11,
     "metadata": {},
     "output_type": "execute_result"
    }
   ],
   "source": [
    "pi = np.pi\n",
    "arr_linspace = np.linspace(0, 2 * pi, num=12)\n",
    "arr_linspace"
   ]
  },
  {
   "cell_type": "markdown",
   "id": "0e51fcb1",
   "metadata": {},
   "source": [
    "# Ordenando y concatenando arrays"
   ]
  },
  {
   "cell_type": "markdown",
   "id": "0a01f02d",
   "metadata": {},
   "source": [
    "Se puede organizar arrays con el método **sort**."
   ]
  },
  {
   "cell_type": "code",
   "execution_count": 12,
   "id": "4e6b3fd8",
   "metadata": {},
   "outputs": [
    {
     "data": {
      "text/plain": [
       "array([ 1,  2,  3,  4,  5,  6,  7,  8,  9, 10])"
      ]
     },
     "execution_count": 12,
     "metadata": {},
     "output_type": "execute_result"
    }
   ],
   "source": [
    "arr_unord = np.array([2,5,1,3,4,6,10,9,8,7])\n",
    "arr_unord\n",
    "arr_unord.sort()\n",
    "arr_unord"
   ]
  },
  {
   "cell_type": "markdown",
   "id": "0ead16d7",
   "metadata": {},
   "source": [
    "Para concatenar dos o más arrays se usa **concatenate()** y se pasa como argumento los arreglos a concatenar."
   ]
  },
  {
   "cell_type": "code",
   "execution_count": 13,
   "id": "0a860b1c",
   "metadata": {},
   "outputs": [
    {
     "data": {
      "text/plain": [
       "array([ 1,  2,  3,  4,  5,  6,  7,  8,  9, 10])"
      ]
     },
     "execution_count": 13,
     "metadata": {},
     "output_type": "execute_result"
    }
   ],
   "source": [
    "a = np.array([1, 2, 3, 4])\n",
    "b = np.array([5, 6, 7, 8])\n",
    "c = np.array([9, 10])\n",
    "np.concatenate((a, b, c))"
   ]
  },
  {
   "cell_type": "markdown",
   "id": "e2153557",
   "metadata": {},
   "source": [
    "Los métodos ndim(saber cuántas dimensiones tienen un arreglo) size(conocer el número de elementos) y shape(devolverá el número de dimensiones, cuántos conjuntos se divide cada dimensión y cuántos elementos hay en cada uno de ellos."
   ]
  },
  {
   "cell_type": "code",
   "execution_count": 14,
   "id": "d3d5ba3a",
   "metadata": {},
   "outputs": [
    {
     "name": "stdout",
     "output_type": "stream",
     "text": [
      "3\n",
      "24\n",
      "(3, 2, 4)\n"
     ]
    }
   ],
   "source": [
    "array_example = np.array([[[0, 1, 2, 3],\n",
    "                           [4, 5, 6, 7]],\n",
    "\n",
    "                          [[0, 1, 2, 3],\n",
    "                           [4, 5, 6, 7]],\n",
    "\n",
    "                          [[0 ,1 ,2, 3],\n",
    "                           [4, 5, 6, 7]]])\n",
    "print(array_example.ndim)\n",
    "print(array_example.size)\n",
    "print(array_example.shape)"
   ]
  },
  {
   "cell_type": "markdown",
   "id": "bcc4130a",
   "metadata": {},
   "source": [
    "# Reshape arrays\n",
    "\n",
    "Se puede alterar las dimensiones de un array sin alterar el valor de sus elementos."
   ]
  },
  {
   "cell_type": "code",
   "execution_count": 15,
   "id": "134841ba",
   "metadata": {},
   "outputs": [
    {
     "data": {
      "text/plain": [
       "array([[0, 1, 2, 3, 4],\n",
       "       [5, 6, 7, 8, 9]])"
      ]
     },
     "execution_count": 15,
     "metadata": {},
     "output_type": "execute_result"
    }
   ],
   "source": [
    "digitos = np.arange(10)\n",
    "digitos.reshape(2,5)\n"
   ]
  }
 ],
 "metadata": {
  "kernelspec": {
   "display_name": "Python 3 (ipykernel)",
   "language": "python",
   "name": "python3"
  },
  "language_info": {
   "codemirror_mode": {
    "name": "ipython",
    "version": 3
   },
   "file_extension": ".py",
   "mimetype": "text/x-python",
   "name": "python",
   "nbconvert_exporter": "python",
   "pygments_lexer": "ipython3",
   "version": "3.9.12"
  }
 },
 "nbformat": 4,
 "nbformat_minor": 5
}
